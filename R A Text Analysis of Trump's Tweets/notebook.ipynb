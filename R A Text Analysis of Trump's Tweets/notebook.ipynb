{
 "cells": [
  {
   "cell_type": "markdown",
   "metadata": {
    "dc": {
     "key": "4"
    },
    "deletable": false,
    "editable": false,
    "run_control": {
     "frozen": true
    },
    "tags": [
     "context"
    ]
   },
   "source": [
    "## 1. The tweets\n",
    "<p>I don’t usually post about politics (I’m not particularly savvy about polling, which is where data science has had the <a href=\"http://fivethirtyeight.com/\">most substantial impact on politics</a>), but I saw a hypothesis about Donald Trump’s Twitter account that simply begged to be investigated with data: </p>\n",
    "<p><a href=\"https://twitter.com/tvaziri/status/762005541388378112\"><img src=\"https://assets.datacamp.com/production/project_511/img/tweet.png\" alt=\"@tvaziri's hypothesis about Donald Trump’s Twitter account\" style=\"width:500px; height:500px;\"></a></p>\n",
    "<p>When Trump wished the Olympic team good luck, he was tweeting from an iPhone. When he insulted a rival, he was usually tweeting from an Android. Is this an artifact showing which tweets are Trump’s own and which are by some handler in the 2016 campaign?</p>\n",
    "<p>Others have <a href=\"http://www.cnet.com/news/trumps-tweets-android-for-nasty-iphone-for-nice/\">explored Trump’s timeline</a> and noticed this tends to hold up. And Trump himself <a href=\"http://www.theverge.com/2015/10/5/9453935/donald-trump-twitter-strategy\">did indeed tweet from a Samsung Galaxy</a> until <a href=\"https://www.recode.net/2017/5/27/15705090/president-donald-trump-twitter-android-iphone-ios-samsung-galaxy-security-hacking\">March 2017</a>. But how could we examine it quantitatively? During the development of the <a href=\"http://github.com/juliasilge/tidytext\">tidytext R package</a>, I was writing about writing about text mining and sentiment analysis, and this is an excellent opportunity to apply it again.</p>\n",
    "<p>Let's load the content of Donald Trump’s timeline. Our dataset is from <a href=\"http://www.trumptwitterarchive.com/\">The Trump Twitter Archive</a> by Brendan Brown, which contains all 35,000+ tweets from the <a href=\"https://twitter.com/realDonaldTrump/\">@realDonaldTrump</a> Twitter account from 2009 (the year Trump sent his <a href=\"https://www.businessinsider.de/donald-trump-first-tweet-2017-5\">first tweet</a>) through 2018. We'll filter it for the election period only, June 1, 2015 through November 8, 2016.</p>"
   ]
  },
  {
   "cell_type": "code",
   "execution_count": 2,
   "metadata": {
    "dc": {
     "key": "4"
    },
    "tags": [
     "sample_code"
    ]
   },
   "outputs": [
    {
     "name": "stderr",
     "output_type": "stream",
     "text": [
      "\n",
      "\u001b[36m--\u001b[39m \u001b[1m\u001b[1mColumn specification\u001b[1m\u001b[22m \u001b[36m------------------------------------------------------------------------------------------------\u001b[39m\n",
      "cols(\n",
      "  source = \u001b[31mcol_character()\u001b[39m,\n",
      "  id_str = \u001b[32mcol_double()\u001b[39m,\n",
      "  text = \u001b[31mcol_character()\u001b[39m,\n",
      "  created_at = \u001b[34mcol_datetime(format = \"\")\u001b[39m,\n",
      "  retweet_count = \u001b[32mcol_double()\u001b[39m,\n",
      "  in_reply_to_user_id_str = \u001b[32mcol_double()\u001b[39m,\n",
      "  favorite_count = \u001b[32mcol_double()\u001b[39m,\n",
      "  is_retweet = \u001b[33mcol_logical()\u001b[39m\n",
      ")\n",
      "\n",
      "\n"
     ]
    },
    {
     "data": {
      "text/html": [
       "<table>\n",
       "<thead><tr><th scope=col>source</th><th scope=col>id_str</th><th scope=col>text</th><th scope=col>created_at</th><th scope=col>retweet_count</th><th scope=col>in_reply_to_user_id_str</th><th scope=col>favorite_count</th><th scope=col>is_retweet</th></tr></thead>\n",
       "<tbody>\n",
       "\t<tr><td>Twitter for Android                                                                                                                         </td><td>6.827032e+17                                                                                                                                </td><td>I would like to wish everyone A HAPPY AND HEALTHY NEW YEAR. WE MUST ALL WORK TOGETHER TO, FINALLY, MAKE AMERICA SAFE AGAIN AND GREAT AGAIN! </td><td>2015-12-31 23:21:49                                                                                                                         </td><td>6776                                                                                                                                        </td><td>NA                                                                                                                                          </td><td>16495                                                                                                                                       </td><td>FALSE                                                                                                                                       </td></tr>\n",
       "\t<tr><td>Twitter for Android                                                                                                                         </td><td>6.827007e+17                                                                                                                                </td><td>Do you believe that The State Department, on NEW YEAR'S EVE, just released more of Hillary's e-mails. They just want it all to end. BAD!    </td><td>2015-12-31 23:11:35                                                                                                                         </td><td>2755                                                                                                                                        </td><td>NA                                                                                                                                          </td><td> 6824                                                                                                                                       </td><td>FALSE                                                                                                                                       </td></tr>\n",
       "\t<tr><td>Twitter for iPhone                                                                                                                                                                      </td><td>6.826351e+17                                                                                                                                                                            </td><td><span style=white-space:pre-wrap>THANK YOU ILLINOIS! Let's not forget to get family &amp;amp; friends- out to VOTE IN 2016! https://t.co/lg5kMbNLYK https://t.co/dtMAsIq4cf      </span></td><td>2015-12-31 18:51:12                                                                                                                                                                     </td><td>2468                                                                                                                                                                                    </td><td>NA                                                                                                                                                                                      </td><td> 6047                                                                                                                                                                                   </td><td>FALSE                                                                                                                                                                                   </td></tr>\n",
       "\t<tr><td>Twitter for iPhone                                                                                                                          </td><td>6.826053e+17                                                                                                                                </td><td>HAPPY BIRTHDAY to my son, @DonaldJTrumpJr! Very proud of you! #TBT https://t.co/ULerCEOCGX https://t.co/nbxPVdarJM                          </td><td>2015-12-31 16:52:38                                                                                                                         </td><td>2080                                                                                                                                        </td><td>NA                                                                                                                                          </td><td> 8416                                                                                                                                       </td><td>FALSE                                                                                                                                       </td></tr>\n",
       "\t<tr><td>Twitter for Android                                                                                                                         </td><td>6.825788e+17                                                                                                                                </td><td>I would feel sorry for @JebBush and how badly he is doing with his campaign other than for the fact he took millions of $'s of hit ads on me</td><td>2015-12-31 15:07:18                                                                                                                         </td><td>1875                                                                                                                                        </td><td>NA                                                                                                                                          </td><td> 5780                                                                                                                                       </td><td>FALSE                                                                                                                                       </td></tr>\n",
       "\t<tr><td>Twitter for iPhone                                                                                                                          </td><td>6.825446e+17                                                                                                                                </td><td>#MakeAmericaGreatAgain #Trump2016 https://t.co/IEIXos0wh9                                                                                   </td><td>2015-12-31 12:51:35                                                                                                                         </td><td>2285                                                                                                                                        </td><td>NA                                                                                                                                          </td><td> 5729                                                                                                                                       </td><td>FALSE                                                                                                                                       </td></tr>\n",
       "</tbody>\n",
       "</table>\n"
      ],
      "text/latex": [
       "\\begin{tabular}{r|llllllll}\n",
       " source & id\\_str & text & created\\_at & retweet\\_count & in\\_reply\\_to\\_user\\_id\\_str & favorite\\_count & is\\_retweet\\\\\n",
       "\\hline\n",
       "\t Twitter for Android                                                                                                                          & 6.827032e+17                                                                                                                                 & I would like to wish everyone A HAPPY AND HEALTHY NEW YEAR. WE MUST ALL WORK TOGETHER TO, FINALLY, MAKE AMERICA SAFE AGAIN AND GREAT AGAIN!  & 2015-12-31 23:21:49                                                                                                                          & 6776                                                                                                                                         & NA                                                                                                                                           & 16495                                                                                                                                        & FALSE                                                                                                                                       \\\\\n",
       "\t Twitter for Android                                                                                                                          & 6.827007e+17                                                                                                                                 & Do you believe that The State Department, on NEW YEAR'S EVE, just released more of Hillary's e-mails. They just want it all to end. BAD!     & 2015-12-31 23:11:35                                                                                                                          & 2755                                                                                                                                         & NA                                                                                                                                           &  6824                                                                                                                                        & FALSE                                                                                                                                       \\\\\n",
       "\t Twitter for iPhone                                                                                                                             & 6.826351e+17                                                                                                                                   & THANK YOU ILLINOIS! Let's not forget to get family \\&amp; friends- out to VOTE IN 2016! https://t.co/lg5kMbNLYK https://t.co/dtMAsIq4cf       & 2015-12-31 18:51:12                                                                                                                            & 2468                                                                                                                                           & NA                                                                                                                                             &  6047                                                                                                                                          & FALSE                                                                                                                                         \\\\\n",
       "\t Twitter for iPhone                                                                                                                             & 6.826053e+17                                                                                                                                   & HAPPY BIRTHDAY to my son, @DonaldJTrumpJr! Very proud of you! \\#TBT https://t.co/ULerCEOCGX https://t.co/nbxPVdarJM                           & 2015-12-31 16:52:38                                                                                                                            & 2080                                                                                                                                           & NA                                                                                                                                             &  8416                                                                                                                                          & FALSE                                                                                                                                         \\\\\n",
       "\t Twitter for Android                                                                                                                            & 6.825788e+17                                                                                                                                   & I would feel sorry for @JebBush and how badly he is doing with his campaign other than for the fact he took millions of \\$'s of hit ads on me & 2015-12-31 15:07:18                                                                                                                            & 1875                                                                                                                                           & NA                                                                                                                                             &  5780                                                                                                                                          & FALSE                                                                                                                                         \\\\\n",
       "\t Twitter for iPhone                                                                                                                               & 6.825446e+17                                                                                                                                     & \\#MakeAmericaGreatAgain \\#Trump2016 https://t.co/IEIXos0wh9                                                                                    & 2015-12-31 12:51:35                                                                                                                              & 2285                                                                                                                                             & NA                                                                                                                                               &  5729                                                                                                                                            & FALSE                                                                                                                                           \\\\\n",
       "\\end{tabular}\n"
      ],
      "text/markdown": [
       "\n",
       "| source | id_str | text | created_at | retweet_count | in_reply_to_user_id_str | favorite_count | is_retweet |\n",
       "|---|---|---|---|---|---|---|---|\n",
       "| Twitter for Android                                                                                                                          | 6.827032e+17                                                                                                                                 | I would like to wish everyone A HAPPY AND HEALTHY NEW YEAR. WE MUST ALL WORK TOGETHER TO, FINALLY, MAKE AMERICA SAFE AGAIN AND GREAT AGAIN!  | 2015-12-31 23:21:49                                                                                                                          | 6776                                                                                                                                         | NA                                                                                                                                           | 16495                                                                                                                                        | FALSE                                                                                                                                        |\n",
       "| Twitter for Android                                                                                                                          | 6.827007e+17                                                                                                                                 | Do you believe that The State Department, on NEW YEAR'S EVE, just released more of Hillary's e-mails. They just want it all to end. BAD!     | 2015-12-31 23:11:35                                                                                                                          | 2755                                                                                                                                         | NA                                                                                                                                           |  6824                                                                                                                                        | FALSE                                                                                                                                        |\n",
       "| Twitter for iPhone                                                                                                                           | 6.826351e+17                                                                                                                                 | THANK YOU ILLINOIS! Let's not forget to get family &amp; friends- out to VOTE IN 2016! https://t.co/lg5kMbNLYK https://t.co/dtMAsIq4cf       | 2015-12-31 18:51:12                                                                                                                          | 2468                                                                                                                                         | NA                                                                                                                                           |  6047                                                                                                                                        | FALSE                                                                                                                                        |\n",
       "| Twitter for iPhone                                                                                                                           | 6.826053e+17                                                                                                                                 | HAPPY BIRTHDAY to my son, @DonaldJTrumpJr! Very proud of you! #TBT https://t.co/ULerCEOCGX https://t.co/nbxPVdarJM                           | 2015-12-31 16:52:38                                                                                                                          | 2080                                                                                                                                         | NA                                                                                                                                           |  8416                                                                                                                                        | FALSE                                                                                                                                        |\n",
       "| Twitter for Android                                                                                                                          | 6.825788e+17                                                                                                                                 | I would feel sorry for @JebBush and how badly he is doing with his campaign other than for the fact he took millions of $'s of hit ads on me | 2015-12-31 15:07:18                                                                                                                          | 1875                                                                                                                                         | NA                                                                                                                                           |  5780                                                                                                                                        | FALSE                                                                                                                                        |\n",
       "| Twitter for iPhone                                                                                                                           | 6.825446e+17                                                                                                                                 | #MakeAmericaGreatAgain #Trump2016 https://t.co/IEIXos0wh9                                                                                    | 2015-12-31 12:51:35                                                                                                                          | 2285                                                                                                                                         | NA                                                                                                                                           |  5729                                                                                                                                        | FALSE                                                                                                                                        |\n",
       "\n"
      ],
      "text/plain": [
       "  source              id_str      \n",
       "1 Twitter for Android 6.827032e+17\n",
       "2 Twitter for Android 6.827007e+17\n",
       "3 Twitter for iPhone  6.826351e+17\n",
       "4 Twitter for iPhone  6.826053e+17\n",
       "5 Twitter for Android 6.825788e+17\n",
       "6 Twitter for iPhone  6.825446e+17\n",
       "  text                                                                                                                                        \n",
       "1 I would like to wish everyone A HAPPY AND HEALTHY NEW YEAR. WE MUST ALL WORK TOGETHER TO, FINALLY, MAKE AMERICA SAFE AGAIN AND GREAT AGAIN! \n",
       "2 Do you believe that The State Department, on NEW YEAR'S EVE, just released more of Hillary's e-mails. They just want it all to end. BAD!    \n",
       "3 THANK YOU ILLINOIS! Let's not forget to get family &amp; friends- out to VOTE IN 2016! https://t.co/lg5kMbNLYK https://t.co/dtMAsIq4cf      \n",
       "4 HAPPY BIRTHDAY to my son, @DonaldJTrumpJr! Very proud of you! #TBT https://t.co/ULerCEOCGX https://t.co/nbxPVdarJM                          \n",
       "5 I would feel sorry for @JebBush and how badly he is doing with his campaign other than for the fact he took millions of $'s of hit ads on me\n",
       "6 #MakeAmericaGreatAgain #Trump2016 https://t.co/IEIXos0wh9                                                                                   \n",
       "  created_at          retweet_count in_reply_to_user_id_str favorite_count\n",
       "1 2015-12-31 23:21:49 6776          NA                      16495         \n",
       "2 2015-12-31 23:11:35 2755          NA                       6824         \n",
       "3 2015-12-31 18:51:12 2468          NA                       6047         \n",
       "4 2015-12-31 16:52:38 2080          NA                       8416         \n",
       "5 2015-12-31 15:07:18 1875          NA                       5780         \n",
       "6 2015-12-31 12:51:35 2285          NA                       5729         \n",
       "  is_retweet\n",
       "1 FALSE     \n",
       "2 FALSE     \n",
       "3 FALSE     \n",
       "4 FALSE     \n",
       "5 FALSE     \n",
       "6 FALSE     "
      ]
     },
     "metadata": {},
     "output_type": "display_data"
    }
   ],
   "source": [
    "# Load the libraries\n",
    "library(\"dplyr\")\n",
    "library(\"readr\")\n",
    "library(\"tidyr\")\n",
    "library(\"lubridate\")\n",
    "# Read in the data\n",
    "tweets <- read_csv(\"datasets/trump_tweets.csv\", guess_max = 36000) %>%\n",
    "  filter(created_at>\"2015-06-01\" , created_at<\"2016-11-8\")\n",
    "\n",
    "# Inspect the first six rows\n",
    "head(tweets)"
   ]
  },
  {
   "cell_type": "markdown",
   "metadata": {
    "dc": {
     "key": "11"
    },
    "deletable": false,
    "editable": false,
    "run_control": {
     "frozen": true
    },
    "tags": [
     "context"
    ]
   },
   "source": [
    "## 2. Clean those tweets\n",
    "<p>We'll clean the data by extracting the source application. We’re only looking at the iPhone and Android tweets. A much smaller number of tweets are from the web client or iPad.</p>\n",
    "<p>Overall, the cleaned data should include 2275 tweets from an iPhone device and 4240 tweets from an Android device.</p>"
   ]
  },
  {
   "cell_type": "code",
   "execution_count": 3,
   "metadata": {
    "dc": {
     "key": "11"
    },
    "tags": [
     "sample_code"
    ]
   },
   "outputs": [
    {
     "data": {
      "text/html": [
       "<table>\n",
       "<thead><tr><th scope=col>n</th></tr></thead>\n",
       "<tbody>\n",
       "\t<tr><td>8013</td></tr>\n",
       "</tbody>\n",
       "</table>\n"
      ],
      "text/latex": [
       "\\begin{tabular}{r|l}\n",
       " n\\\\\n",
       "\\hline\n",
       "\t 8013\\\\\n",
       "\\end{tabular}\n"
      ],
      "text/markdown": [
       "\n",
       "| n |\n",
       "|---|\n",
       "| 8013 |\n",
       "\n"
      ],
      "text/plain": [
       "  n   \n",
       "1 8013"
      ]
     },
     "metadata": {},
     "output_type": "display_data"
    },
    {
     "data": {
      "text/html": [
       "<table>\n",
       "<thead><tr><th scope=col>id_str</th><th scope=col>source</th><th scope=col>text</th><th scope=col>created_at</th></tr></thead>\n",
       "<tbody>\n",
       "\t<tr><td>6.827032e+17                                                                                                                                </td><td>Android                                                                                                                                     </td><td>I would like to wish everyone A HAPPY AND HEALTHY NEW YEAR. WE MUST ALL WORK TOGETHER TO, FINALLY, MAKE AMERICA SAFE AGAIN AND GREAT AGAIN! </td><td>2015-12-31 23:21:49                                                                                                                         </td></tr>\n",
       "\t<tr><td>6.827007e+17                                                                                                                                </td><td>Android                                                                                                                                     </td><td>Do you believe that The State Department, on NEW YEAR'S EVE, just released more of Hillary's e-mails. They just want it all to end. BAD!    </td><td>2015-12-31 23:11:35                                                                                                                         </td></tr>\n",
       "\t<tr><td>6.826351e+17                                                                                                                                                                            </td><td>iPhone                                                                                                                                                                                  </td><td><span style=white-space:pre-wrap>THANK YOU ILLINOIS! Let's not forget to get family &amp;amp; friends- out to VOTE IN 2016! https://t.co/lg5kMbNLYK https://t.co/dtMAsIq4cf      </span></td><td>2015-12-31 18:51:12                                                                                                                                                                     </td></tr>\n",
       "\t<tr><td>6.826053e+17                                                                                                                                </td><td>iPhone                                                                                                                                      </td><td>HAPPY BIRTHDAY to my son, @DonaldJTrumpJr! Very proud of you! #TBT https://t.co/ULerCEOCGX https://t.co/nbxPVdarJM                          </td><td>2015-12-31 16:52:38                                                                                                                         </td></tr>\n",
       "\t<tr><td>6.825788e+17                                                                                                                                </td><td>Android                                                                                                                                     </td><td>I would feel sorry for @JebBush and how badly he is doing with his campaign other than for the fact he took millions of $'s of hit ads on me</td><td>2015-12-31 15:07:18                                                                                                                         </td></tr>\n",
       "\t<tr><td>6.825446e+17                                                                                                                                </td><td>iPhone                                                                                                                                      </td><td>#MakeAmericaGreatAgain #Trump2016 https://t.co/IEIXos0wh9                                                                                   </td><td>2015-12-31 12:51:35                                                                                                                         </td></tr>\n",
       "</tbody>\n",
       "</table>\n"
      ],
      "text/latex": [
       "\\begin{tabular}{r|llll}\n",
       " id\\_str & source & text & created\\_at\\\\\n",
       "\\hline\n",
       "\t 6.827032e+17                                                                                                                                 & Android                                                                                                                                      & I would like to wish everyone A HAPPY AND HEALTHY NEW YEAR. WE MUST ALL WORK TOGETHER TO, FINALLY, MAKE AMERICA SAFE AGAIN AND GREAT AGAIN!  & 2015-12-31 23:21:49                                                                                                                         \\\\\n",
       "\t 6.827007e+17                                                                                                                                 & Android                                                                                                                                      & Do you believe that The State Department, on NEW YEAR'S EVE, just released more of Hillary's e-mails. They just want it all to end. BAD!     & 2015-12-31 23:11:35                                                                                                                         \\\\\n",
       "\t 6.826351e+17                                                                                                                                   & iPhone                                                                                                                                         & THANK YOU ILLINOIS! Let's not forget to get family \\&amp; friends- out to VOTE IN 2016! https://t.co/lg5kMbNLYK https://t.co/dtMAsIq4cf       & 2015-12-31 18:51:12                                                                                                                           \\\\\n",
       "\t 6.826053e+17                                                                                                                                   & iPhone                                                                                                                                         & HAPPY BIRTHDAY to my son, @DonaldJTrumpJr! Very proud of you! \\#TBT https://t.co/ULerCEOCGX https://t.co/nbxPVdarJM                           & 2015-12-31 16:52:38                                                                                                                           \\\\\n",
       "\t 6.825788e+17                                                                                                                                   & Android                                                                                                                                        & I would feel sorry for @JebBush and how badly he is doing with his campaign other than for the fact he took millions of \\$'s of hit ads on me & 2015-12-31 15:07:18                                                                                                                           \\\\\n",
       "\t 6.825446e+17                                                                                                                                     & iPhone                                                                                                                                           & \\#MakeAmericaGreatAgain \\#Trump2016 https://t.co/IEIXos0wh9                                                                                    & 2015-12-31 12:51:35                                                                                                                             \\\\\n",
       "\\end{tabular}\n"
      ],
      "text/markdown": [
       "\n",
       "| id_str | source | text | created_at |\n",
       "|---|---|---|---|\n",
       "| 6.827032e+17                                                                                                                                 | Android                                                                                                                                      | I would like to wish everyone A HAPPY AND HEALTHY NEW YEAR. WE MUST ALL WORK TOGETHER TO, FINALLY, MAKE AMERICA SAFE AGAIN AND GREAT AGAIN!  | 2015-12-31 23:21:49                                                                                                                          |\n",
       "| 6.827007e+17                                                                                                                                 | Android                                                                                                                                      | Do you believe that The State Department, on NEW YEAR'S EVE, just released more of Hillary's e-mails. They just want it all to end. BAD!     | 2015-12-31 23:11:35                                                                                                                          |\n",
       "| 6.826351e+17                                                                                                                                 | iPhone                                                                                                                                       | THANK YOU ILLINOIS! Let's not forget to get family &amp; friends- out to VOTE IN 2016! https://t.co/lg5kMbNLYK https://t.co/dtMAsIq4cf       | 2015-12-31 18:51:12                                                                                                                          |\n",
       "| 6.826053e+17                                                                                                                                 | iPhone                                                                                                                                       | HAPPY BIRTHDAY to my son, @DonaldJTrumpJr! Very proud of you! #TBT https://t.co/ULerCEOCGX https://t.co/nbxPVdarJM                           | 2015-12-31 16:52:38                                                                                                                          |\n",
       "| 6.825788e+17                                                                                                                                 | Android                                                                                                                                      | I would feel sorry for @JebBush and how badly he is doing with his campaign other than for the fact he took millions of $'s of hit ads on me | 2015-12-31 15:07:18                                                                                                                          |\n",
       "| 6.825446e+17                                                                                                                                 | iPhone                                                                                                                                       | #MakeAmericaGreatAgain #Trump2016 https://t.co/IEIXos0wh9                                                                                    | 2015-12-31 12:51:35                                                                                                                          |\n",
       "\n"
      ],
      "text/plain": [
       "  id_str       source \n",
       "1 6.827032e+17 Android\n",
       "2 6.827007e+17 Android\n",
       "3 6.826351e+17 iPhone \n",
       "4 6.826053e+17 iPhone \n",
       "5 6.825788e+17 Android\n",
       "6 6.825446e+17 iPhone \n",
       "  text                                                                                                                                        \n",
       "1 I would like to wish everyone A HAPPY AND HEALTHY NEW YEAR. WE MUST ALL WORK TOGETHER TO, FINALLY, MAKE AMERICA SAFE AGAIN AND GREAT AGAIN! \n",
       "2 Do you believe that The State Department, on NEW YEAR'S EVE, just released more of Hillary's e-mails. They just want it all to end. BAD!    \n",
       "3 THANK YOU ILLINOIS! Let's not forget to get family &amp; friends- out to VOTE IN 2016! https://t.co/lg5kMbNLYK https://t.co/dtMAsIq4cf      \n",
       "4 HAPPY BIRTHDAY to my son, @DonaldJTrumpJr! Very proud of you! #TBT https://t.co/ULerCEOCGX https://t.co/nbxPVdarJM                          \n",
       "5 I would feel sorry for @JebBush and how badly he is doing with his campaign other than for the fact he took millions of $'s of hit ads on me\n",
       "6 #MakeAmericaGreatAgain #Trump2016 https://t.co/IEIXos0wh9                                                                                   \n",
       "  created_at         \n",
       "1 2015-12-31 23:21:49\n",
       "2 2015-12-31 23:11:35\n",
       "3 2015-12-31 18:51:12\n",
       "4 2015-12-31 16:52:38\n",
       "5 2015-12-31 15:07:18\n",
       "6 2015-12-31 12:51:35"
      ]
     },
     "metadata": {},
     "output_type": "display_data"
    }
   ],
   "source": [
    "# Count the nubmer of tweets by source\n",
    "tweets %>% count()\n",
    "\n",
    "# Clean the tweets\n",
    "cleaned_tweets <- tweets %>%\n",
    "  select(id_str,source,text,created_at) %>%\n",
    "  filter(source %in% c(\"Twitter for Android\", \"Twitter for iPhone\")) %>%\n",
    "  extract(source, \"source\", \"(\\\\w+)$\")\n",
    "\n",
    "# Inspect the first six rows\n",
    "head(cleaned_tweets)"
   ]
  },
  {
   "cell_type": "markdown",
   "metadata": {
    "dc": {
     "key": "18"
    },
    "deletable": false,
    "editable": false,
    "run_control": {
     "frozen": true
    },
    "tags": [
     "context"
    ]
   },
   "source": [
    "## 3. Is \"time\" the giveaway?\n",
    "<p>Most people are creatures of habit, and we would expect their tweet times to be a type of ‘signature’. We can certainly spot the difference here. Most tweets from the Android are in the early morning or later in the evening, while tweets from the iPhone occur more often in the afternoon.</p>"
   ]
  },
  {
   "cell_type": "code",
   "execution_count": 4,
   "metadata": {
    "dc": {
     "key": "18"
    },
    "tags": [
     "sample_code"
    ]
   },
   "outputs": [
    {
     "name": "stderr",
     "output_type": "stream",
     "text": [
      "Warning message:\n",
      "\"package 'ggplot2' was built under R version 3.6.3\"\n"
     ]
    },
    {
     "data": {
      "image/png": "[encoded data removed]",
      "text/plain": [
       "plot without title"
      ]
     },
     "metadata": {
      "image/png": {
       "height": 420,
       "width": 420
      }
     },
     "output_type": "display_data"
    }
   ],
   "source": [
    "# Load the packages\n",
    "library(ggplot2)\n",
    "\n",
    "# Plot the percentage of tweets by hour of the day for each device\n",
    "cleaned_tweets %>%\n",
    "  count(source, hour = hour(with_tz(created_at, \"EST\"))) %>%\n",
    "  mutate(percent=n/sum(n))%>%\n",
    "  ggplot(aes(hour, percent, color = source)) +\n",
    "  geom_line()+\n",
    "  scale_y_continuous(labels = scales::label_percent()) +\n",
    "  labs(x = \"Hour of day (EST)\", y = \"% of tweets\",color=\"\")"
   ]
  },
  {
   "cell_type": "markdown",
   "metadata": {
    "dc": {
     "key": "25"
    },
    "deletable": false,
    "editable": false,
    "run_control": {
     "frozen": true
    },
    "tags": [
     "context"
    ]
   },
   "source": [
    "## 4. The quote tweet is dead\n",
    "<p>Another place we can spot a difference is in Trump’s anachronistic behavior of “manually retweeting” people by copy-pasting their tweets, then surrounding them with quotation marks. These are known as <a href=\"https://www.theringer.com/tech/2018/5/2/17311616/twitter-retweet-quote-endorsement-function-trolls\">quote tweets</a>.</p>\n",
    "<p><a href=\"https://twitter.com/realDonaldTrump/status/758512401629192192\"><img src=\"https://assets.datacamp.com/production/project_511/img/tweet_quotes.png\" alt=\"Trump quote-tweeting someone\" style=\"height:200px;\"></a></p>\n",
    "<p>Almost all the quote tweets are posted from the Android.</p>\n",
    "<p>After this plot, we’ll filter out the quote tweets in the remaining <strong>by-word</strong> analyses because they contain text from followers that may not be representative of Trump’s tweets.</p>"
   ]
  },
  {
   "cell_type": "code",
   "execution_count": 5,
   "metadata": {
    "dc": {
     "key": "25"
    },
    "tags": [
     "sample_code"
    ]
   },
   "outputs": [
    {
     "name": "stderr",
     "output_type": "stream",
     "text": [
      "Warning message:\n",
      "\"package 'stringr' was built under R version 3.6.3\"\n"
     ]
    },
    {
     "data": {
      "image/png": "[encoded data removed]",
      "text/plain": [
       "plot without title"
      ]
     },
     "metadata": {
      "image/png": {
       "height": 420,
       "width": 420
      }
     },
     "output_type": "display_data"
    }
   ],
   "source": [
    "# Load stringr\n",
    "library(stringr)\n",
    "\n",
    "# Plot the number of tweets with and without quotes by device\n",
    "cleaned_tweets %>%\n",
    "  count(source,\n",
    "        quoted = ifelse(str_detect(text, '^\"'), \"Quoted\", \"Not quoted\")) %>%\n",
    "  ggplot(aes(x=source, y=n, fill = quoted)) +\n",
    "  geom_bar(stat = \"identity\", position = \"dodge\") +\n",
    "  labs(x = \"\", y = \"Number of tweets\", fill = \"\") +\n",
    "  ggtitle('Whether tweets start with a quotation mark (\")')"
   ]
  },
  {
   "cell_type": "markdown",
   "metadata": {
    "dc": {
     "key": "32"
    },
    "deletable": false,
    "editable": false,
    "run_control": {
     "frozen": true
    },
    "tags": [
     "context"
    ]
   },
   "source": [
    "## 5. Links and pictures\n",
    "<p>Another place we see a difference between the iPhone and Android tweets is in the sharing of links or pictures.</p>\n",
    "<p>It turns out that tweets from the iPhone were <strong>way more likely to contain either a picture or a link</strong>. This also makes sense with our narrative: iPhone (presumably run by the campaign) tends to write “announcement” tweets about events, like this:</p>\n",
    "<p><a href=\"https://twitter.com/realDonaldTrump/status/762110918721310721\"><img src=\"https://assets.datacamp.com/production/project_511/img/tweet_windham.png\" alt=\"Thank you Windham, New Hampshire!\" style=\"height:500px;\"></a></p>\n",
    "<p>While Android (Trump himself) tends to write picture-less tweets like:</p>\n",
    "<p><a href=\"https://twitter.com/realDonaldTrump/status/762400869858115588\"><img src=\"https://assets.datacamp.com/production/project_511/img/tweet_media.png\" alt=\"The media is going crazy…very dishonest!\" style=\"height:300px;\"></a></p>"
   ]
  },
  {
   "cell_type": "code",
   "execution_count": 6,
   "metadata": {
    "dc": {
     "key": "32"
    },
    "tags": [
     "sample_code"
    ]
   },
   "outputs": [
    {
     "data": {
      "image/png": "[encoded data removed]",
      "text/plain": [
       "plot without title"
      ]
     },
     "metadata": {
      "image/png": {
       "height": 420,
       "width": 420
      }
     },
     "output_type": "display_data"
    }
   ],
   "source": [
    "# Count the number of tweets with and without picture/links by device\n",
    "tweet_picture_counts <- cleaned_tweets %>%\n",
    "  filter(!str_detect(text, '^\"')) %>%\n",
    "  count(source,\n",
    "        picture = ifelse(str_detect(text, \"t.co\"),\n",
    "                         \"Picture/link\", \"No picture/link\"))\n",
    "\n",
    "# Make a bar plot \n",
    "ggplot(tweet_picture_counts, aes(source, n, fill = picture)) +\n",
    "  geom_bar(stat = \"identity\", position = \"dodge\") +\n",
    "  labs(x = \"\", y = \"Number of tweets\", fill = \"\")"
   ]
  },
  {
   "cell_type": "markdown",
   "metadata": {
    "dc": {
     "key": "39"
    },
    "deletable": false,
    "editable": false,
    "run_control": {
     "frozen": true
    },
    "tags": [
     "context"
    ]
   },
   "source": [
    "## 6. Comparison of words\n",
    "<p>Now that we’re sure there is a difference between these two platforms, what can we say about the difference in the <em>content</em> of the tweets? We’ll use the <a href=\"https://cran.r-project.org/web/packages/tidytext\">tidytext package</a> that <a href=\"http://juliasilge.com/\">Julia Silge</a> and I developed.</p>\n",
    "<p>We start by dividing lines of text into individual words using <code>unnest_tokens()</code> (see <a href=\"https://cran.r-project.org/web/packages/tidytext/vignettes/tidytext.html\">this vignette</a> for more), and by removing some common “stopwords”.</p>"
   ]
  },
  {
   "cell_type": "code",
   "execution_count": 9,
   "metadata": {
    "dc": {
     "key": "39"
    },
    "tags": [
     "sample_code"
    ]
   },
   "outputs": [
    {
     "name": "stderr",
     "output_type": "stream",
     "text": [
      "also installing the dependencies 'SnowballC', 'hunspell', 'tokenizers', 'janeaustenr'\n",
      "\n",
      "\n"
     ]
    },
    {
     "name": "stdout",
     "output_type": "stream",
     "text": [
      "package 'SnowballC' successfully unpacked and MD5 sums checked\n",
      "package 'hunspell' successfully unpacked and MD5 sums checked\n",
      "package 'tokenizers' successfully unpacked and MD5 sums checked\n",
      "package 'janeaustenr' successfully unpacked and MD5 sums checked\n",
      "package 'tidytext' successfully unpacked and MD5 sums checked\n",
      "\n",
      "The downloaded binary packages are in\n",
      "\tC:\\Users\\abida\\AppData\\Local\\Temp\\RtmpyG7jTM\\downloaded_packages\n"
     ]
    },
    {
     "name": "stderr",
     "output_type": "stream",
     "text": [
      "Warning message:\n",
      "\"package 'tidytext' was built under R version 3.6.3\"\n"
     ]
    },
    {
     "data": {
      "text/html": [
       "<table>\n",
       "<thead><tr><th scope=col>id_str</th><th scope=col>source</th><th scope=col>created_at</th><th scope=col>word</th></tr></thead>\n",
       "<tbody>\n",
       "\t<tr><td>6.053187e+17       </td><td>Android            </td><td>2015-06-01 10:23:13</td><td>@foxandfriends     </td></tr>\n",
       "\t<tr><td>6.053187e+17       </td><td>Android            </td><td>2015-06-01 10:23:13</td><td>enjoy              </td></tr>\n",
       "\t<tr><td>6.066705e+17       </td><td>Android            </td><td>2015-06-05 03:55:04</td><td>worst              </td></tr>\n",
       "\t<tr><td>6.066705e+17       </td><td>Android            </td><td>2015-06-05 03:55:04</td><td>boring             </td></tr>\n",
       "\t<tr><td>6.066705e+17       </td><td>Android            </td><td>2015-06-05 03:55:04</td><td>political          </td></tr>\n",
       "\t<tr><td>6.066705e+17       </td><td>Android            </td><td>2015-06-05 03:55:04</td><td>pundits            </td></tr>\n",
       "</tbody>\n",
       "</table>\n"
      ],
      "text/latex": [
       "\\begin{tabular}{r|llll}\n",
       " id\\_str & source & created\\_at & word\\\\\n",
       "\\hline\n",
       "\t 6.053187e+17        & Android             & 2015-06-01 10:23:13 & @foxandfriends     \\\\\n",
       "\t 6.053187e+17        & Android             & 2015-06-01 10:23:13 & enjoy              \\\\\n",
       "\t 6.066705e+17        & Android             & 2015-06-05 03:55:04 & worst              \\\\\n",
       "\t 6.066705e+17        & Android             & 2015-06-05 03:55:04 & boring             \\\\\n",
       "\t 6.066705e+17        & Android             & 2015-06-05 03:55:04 & political          \\\\\n",
       "\t 6.066705e+17        & Android             & 2015-06-05 03:55:04 & pundits            \\\\\n",
       "\\end{tabular}\n"
      ],
      "text/markdown": [
       "\n",
       "| id_str | source | created_at | word |\n",
       "|---|---|---|---|\n",
       "| 6.053187e+17        | Android             | 2015-06-01 10:23:13 | @foxandfriends      |\n",
       "| 6.053187e+17        | Android             | 2015-06-01 10:23:13 | enjoy               |\n",
       "| 6.066705e+17        | Android             | 2015-06-05 03:55:04 | worst               |\n",
       "| 6.066705e+17        | Android             | 2015-06-05 03:55:04 | boring              |\n",
       "| 6.066705e+17        | Android             | 2015-06-05 03:55:04 | political           |\n",
       "| 6.066705e+17        | Android             | 2015-06-05 03:55:04 | pundits             |\n",
       "\n"
      ],
      "text/plain": [
       "  id_str       source  created_at          word          \n",
       "1 6.053187e+17 Android 2015-06-01 10:23:13 @foxandfriends\n",
       "2 6.053187e+17 Android 2015-06-01 10:23:13 enjoy         \n",
       "3 6.066705e+17 Android 2015-06-05 03:55:04 worst         \n",
       "4 6.066705e+17 Android 2015-06-05 03:55:04 boring        \n",
       "5 6.066705e+17 Android 2015-06-05 03:55:04 political     \n",
       "6 6.066705e+17 Android 2015-06-05 03:55:04 pundits       "
      ]
     },
     "metadata": {},
     "output_type": "display_data"
    }
   ],
   "source": [
    "# Load the tidytext package\n",
    "library(\"tidytext\")\n",
    "\n",
    "# Create a regex pattern\n",
    "reg <- \"([^A-Za-z\\\\d#@']|'(?![A-Za-z\\\\d#@]))\"\n",
    "\n",
    "# Unnest the text strings into a data frame of words\n",
    "tweet_words <- cleaned_tweets %>%\n",
    "  filter(!str_detect(text,'^\"' )) %>%\n",
    "  mutate(text = str_replace_all(text, \"https://t.co/[A-Za-z\\\\d]+|&amp;\", \"\")) %>%\n",
    "  unnest_tokens(word, text, token = \"regex\", pattern = reg) %>%\n",
    "  filter(!word %in% stop_words$word,\n",
    "         str_detect(word, \"[a-z]\"))\n",
    "\n",
    "# Inspect the first six rows of tweet_words\n",
    "head(tweet_words)"
   ]
  },
  {
   "cell_type": "markdown",
   "metadata": {
    "dc": {
     "key": "46"
    },
    "deletable": false,
    "editable": false,
    "run_control": {
     "frozen": true
    },
    "tags": [
     "context"
    ]
   },
   "source": [
    "## 7. Most common words\n",
    "<p>What are the most common words @realDonaldTrump tweets? This plot should look familiar to anyone who has seen the feed.</p>"
   ]
  },
  {
   "cell_type": "code",
   "execution_count": 10,
   "metadata": {
    "dc": {
     "key": "46"
    },
    "tags": [
     "sample_code"
    ]
   },
   "outputs": [
    {
     "data": {
      "image/png": "[encoded data removed]",
      "text/plain": [
       "plot without title"
      ]
     },
     "metadata": {
      "image/png": {
       "height": 420,
       "width": 420
      }
     },
     "output_type": "display_data"
    }
   ],
   "source": [
    "# Plot the most common words from @realDonaldTrump tweets\n",
    "tweet_words %>%\n",
    "  count(word, sort = TRUE) %>%\n",
    "  head(20) %>%\n",
    "  mutate(word = reorder(word, n)) %>%\n",
    "  ggplot(aes(word, n)) +\n",
    "  geom_bar(stat = \"identity\") +\n",
    "  ylab(\"Occurrences\") +\n",
    "  coord_flip()"
   ]
  },
  {
   "cell_type": "markdown",
   "metadata": {
    "dc": {
     "key": "53"
    },
    "deletable": false,
    "editable": false,
    "run_control": {
     "frozen": true
    },
    "tags": [
     "context"
    ]
   },
   "source": [
    "## 8. Common words: Android vs. iPhone (i)\n",
    "<p>Now let’s consider which words are most common from the Android relative to the iPhone, and vice versa. We’ll use the simple measure of log odds ratio <strong>for each word</strong>, calculated as:</p>\n",
    "<p>$$\\log_2(\\frac{\\frac{\\mbox{# in Android} + 1}{\\mbox{Total #words Android} + 1}} {\\frac{\\mbox{# in iPhone} + 1}{\\mbox{Total #words iPhone} + 1}})$$</p>\n",
    "<p><br></p>\n",
    "<p>We'll only be looking at words that occur at least five times in both platforms. There will be some instances with fewer than five uses in either the Android or the iPhone, but never one with fewer than five total. If there is one occurrence of a word in the Android, you'll know that there are at least four occurrences in the iPhone for the same word.</p>\n",
    "<p><br></p>\n",
    "<p>The “$ + 1$”, called <a href=\"https://en.wikipedia.org/wiki/Additive_smoothing\">Laplace smoothing</a>, are to avoid dividing by zero and to put <a href=\"http://varianceexplained.org/r/empirical_bayes_baseball/\">more trust in common words</a>.</p>"
   ]
  },
  {
   "cell_type": "code",
   "execution_count": 11,
   "metadata": {
    "dc": {
     "key": "53"
    },
    "tags": [
     "sample_code"
    ]
   },
   "outputs": [
    {
     "data": {
      "text/html": [
       "<table>\n",
       "<thead><tr><th scope=col>word</th><th scope=col>Android</th><th scope=col>iPhone</th><th scope=col>logratio</th></tr></thead>\n",
       "<tbody>\n",
       "\t<tr><td>mails       </td><td>0.0016696915</td><td>8.005764e-05</td><td>4.382399    </td></tr>\n",
       "\t<tr><td>poor        </td><td>0.0010163339</td><td>8.005764e-05</td><td>3.666192    </td></tr>\n",
       "\t<tr><td>poorly      </td><td>0.0009437387</td><td>8.005764e-05</td><td>3.559276    </td></tr>\n",
       "\t<tr><td>bosses      </td><td>0.0008711434</td><td>8.005764e-05</td><td>3.443799    </td></tr>\n",
       "\t<tr><td>turnberry   </td><td>0.0008711434</td><td>8.005764e-05</td><td>3.443799    </td></tr>\n",
       "\t<tr><td>angry       </td><td>0.0007985481</td><td>8.005764e-05</td><td>3.318268    </td></tr>\n",
       "</tbody>\n",
       "</table>\n"
      ],
      "text/latex": [
       "\\begin{tabular}{r|llll}\n",
       " word & Android & iPhone & logratio\\\\\n",
       "\\hline\n",
       "\t mails        & 0.0016696915 & 8.005764e-05 & 4.382399    \\\\\n",
       "\t poor         & 0.0010163339 & 8.005764e-05 & 3.666192    \\\\\n",
       "\t poorly       & 0.0009437387 & 8.005764e-05 & 3.559276    \\\\\n",
       "\t bosses       & 0.0008711434 & 8.005764e-05 & 3.443799    \\\\\n",
       "\t turnberry    & 0.0008711434 & 8.005764e-05 & 3.443799    \\\\\n",
       "\t angry        & 0.0007985481 & 8.005764e-05 & 3.318268    \\\\\n",
       "\\end{tabular}\n"
      ],
      "text/markdown": [
       "\n",
       "| word | Android | iPhone | logratio |\n",
       "|---|---|---|---|\n",
       "| mails        | 0.0016696915 | 8.005764e-05 | 4.382399     |\n",
       "| poor         | 0.0010163339 | 8.005764e-05 | 3.666192     |\n",
       "| poorly       | 0.0009437387 | 8.005764e-05 | 3.559276     |\n",
       "| bosses       | 0.0008711434 | 8.005764e-05 | 3.443799     |\n",
       "| turnberry    | 0.0008711434 | 8.005764e-05 | 3.443799     |\n",
       "| angry        | 0.0007985481 | 8.005764e-05 | 3.318268     |\n",
       "\n"
      ],
      "text/plain": [
       "  word      Android      iPhone       logratio\n",
       "1 mails     0.0016696915 8.005764e-05 4.382399\n",
       "2 poor      0.0010163339 8.005764e-05 3.666192\n",
       "3 poorly    0.0009437387 8.005764e-05 3.559276\n",
       "4 bosses    0.0008711434 8.005764e-05 3.443799\n",
       "5 turnberry 0.0008711434 8.005764e-05 3.443799\n",
       "6 angry     0.0007985481 8.005764e-05 3.318268"
      ]
     },
     "metadata": {},
     "output_type": "display_data"
    }
   ],
   "source": [
    "# Create the log odds ratio of each word\n",
    "android_iphone_ratios <- tweet_words %>%\n",
    "  count(word, source) %>%\n",
    "  group_by(word)  %>% \n",
    "  filter(sum(n) >= 5) %>%\n",
    "  spread(source, n, fill = 0) %>%\n",
    "  ungroup() %>%\n",
    "  mutate_if(is.numeric, ~((. + 1) / sum(. + 1))) %>%\n",
    "  mutate(logratio = log2(Android / iPhone)) %>%\n",
    "  arrange(desc(logratio))\n",
    "\n",
    "# Inspect the first six rows\n",
    "head(android_iphone_ratios)"
   ]
  },
  {
   "cell_type": "markdown",
   "metadata": {
    "dc": {
     "key": "60"
    },
    "deletable": false,
    "editable": false,
    "run_control": {
     "frozen": true
    },
    "tags": [
     "context"
    ]
   },
   "source": [
    "## 9. Common words: Android vs. iPhone (ii)\n",
    "<p>Now that we've calculated the log odds ratio of each word, we'll plot the 15 words with the greatest log odds ratio for the Android and the iPhone.</p>\n",
    "<p>With the way we've set up the log odds ratio, positive values are assigned to words from the Android, and negative values are assigned to the iPhone. </p>"
   ]
  },
  {
   "cell_type": "code",
   "execution_count": 12,
   "metadata": {
    "dc": {
     "key": "60"
    },
    "tags": [
     "sample_code"
    ]
   },
   "outputs": [
    {
     "data": {
      "image/png": "[encoded data removed]",
      "text/plain": [
       "plot without title"
      ]
     },
     "metadata": {
      "image/png": {
       "height": 420,
       "width": 420
      }
     },
     "output_type": "display_data"
    }
   ],
   "source": [
    "# Plot the log odds ratio for each word by device\n",
    "android_iphone_ratios %>%\n",
    "  group_by(logratio > 0) %>%\n",
    "  top_n(15, abs(logratio)) %>%\n",
    "  ungroup() %>%\n",
    "  mutate(word = reorder(word, logratio)) %>%\n",
    "  ggplot(aes(x=word, y=logratio, fill = logratio < 0)) +\n",
    "  geom_bar(stat = \"identity\") +\n",
    "  coord_flip() +\n",
    "  ylab(\"Android / iPhone log ratio\") +\n",
    "  scale_fill_manual(name = \"\", labels = c(\"Android\", \"iPhone\"),\n",
    "                    values = c(\"red\", \"lightblue\"))"
   ]
  },
  {
   "cell_type": "markdown",
   "metadata": {
    "dc": {
     "key": "67"
    },
    "deletable": false,
    "editable": false,
    "run_control": {
     "frozen": true
    },
    "tags": [
     "context"
    ]
   },
   "source": [
    "## 10. Adding sentiments\n",
    "<p>What do we know so far? </p>\n",
    "<ul>\n",
    "<li><p><strong>Most hashtags come from the iPhone.</strong> Indeed, almost no tweets from Trump's Android contained hashtags, with some rare exceptions like <a href=\"https://twitter.com/realDonaldTrump/status/753960134422900736\">this one</a>. (This is true only because we filtered out the quoted \"retweets,\" as Trump does sometimes quote tweets <a href=\"https://twitter.com/realDonaldTrump/status/731805331425218560\">like this</a> that contain hashtags).</p></li>\n",
    "<li><p><strong>Words like \"join\" and times like \"7 pm\", came only from the iPhone.</strong> The iPhone is responsible for event announcements like <a href=\"https://twitter.com/realDonaldTrump/status/743522630230228993\">this one</a> (\"Join me in Houston, Texas tomorrow night at 7 pm!\")</p></li>\n",
    "<li><p><strong>Emotionally charged words, like \"poorly,\" \"angry,\" and \"stupid\" were more common on Android.</strong> This supports the original hypothesis that this is the \"angrier\" or more hyperbolic account.</p></li>\n",
    "</ul>\n",
    "<p>Since we’ve observed a difference in word use between the Android and iPhone tweets, let's see if there's a difference in sentiment. We’ll work with the NRC Word-Emotion Association lexicon, available from the tidytext package, which associates words with ten sentiments: positive, negative, anger, anticipation, disgust, fear, joy, sadness, surprise, and trust.</p>"
   ]
  },
  {
   "cell_type": "code",
   "execution_count": 13,
   "metadata": {
    "dc": {
     "key": "67"
    },
    "tags": [
     "sample_code"
    ]
   },
   "outputs": [
    {
     "ename": "ERROR",
     "evalue": "Error in readRDS(file): ReadItem: unknown type 189, perhaps written by later version of R\n",
     "output_type": "error",
     "traceback": [
      "Error in readRDS(file): ReadItem: unknown type 189, perhaps written by later version of R\nTraceback:\n",
      "1. read_rds(\"datasets/nrc.rds\")",
      "2. readRDS(file)"
     ]
    }
   ],
   "source": [
    "# Create a sentiment data frame from the NRC lexicon\n",
    "nrc <- read_rds(\"datasets/nrc.rds\")\n",
    "\n",
    "# Join the NRC lexicon to log odds ratio data frame\n",
    "android_iphone_sentiment <- android_iphone_ratios %>%\n",
    "  left_join(nrc, by = \"word\") %>%\n",
    "  filter(!sentiment %in% c(\"positive\", \"negative\")) %>%\n",
    "  mutate(sentiment = reorder(sentiment, -logratio),\n",
    "         word = reorder(word, -logratio)) %>%\n",
    "  group_by(sentiment) %>%\n",
    "  top_n(10, abs(logratio)) %>%\n",
    "  ungroup()\n",
    "\n",
    "# Inspect the first six rows\n",
    "head(android_iphone_sentiment)"
   ]
  },
  {
   "cell_type": "markdown",
   "metadata": {
    "dc": {
     "key": "74"
    },
    "deletable": false,
    "editable": false,
    "run_control": {
     "frozen": true
    },
    "tags": [
     "context"
    ]
   },
   "source": [
    "## 11. Android vs. iPhone sentiments\n",
    "<p>Now we'll take a look at the sentiments of the common words from both devices. We'll see that a lot of words annotated as negative sentiments (with a few exceptions like “crime” and “terrorist”) are more common in Trump’s Android tweets than the campaign’s iPhone tweets.</p>"
   ]
  },
  {
   "cell_type": "code",
   "execution_count": null,
   "metadata": {
    "dc": {
     "key": "74"
    },
    "tags": [
     "sample_code"
    ]
   },
   "outputs": [],
   "source": [
    "# Plot the log odds ratio of words by device in groups sentiments\n",
    "ggplot(android_iphone_sentiment, aes(word, logratio, fill = logratio < 0)) +\n",
    "  facet_wrap(~ sentiment, scales = \"free\", nrow = 2) +\n",
    "  geom_bar(stat = \"identity\") +\n",
    "  theme(axis.text.x = element_text(angle = 90, hjust = 1)) +\n",
    "  labs(x = \"\", y = \"Android / iPhone log ratio\") +\n",
    "  scale_fill_manual(name = \"\", labels = c(\"Android\", \"iPhone\"),\n",
    "                    values = c(\"red\", \"lightblue\"))"
   ]
  },
  {
   "cell_type": "markdown",
   "metadata": {
    "dc": {
     "key": "81"
    },
    "deletable": false,
    "editable": false,
    "run_control": {
     "frozen": true
    },
    "tags": [
     "context"
    ]
   },
   "source": [
    "## 12. Conclusion: The ghost in the political machine\n",
    "<p>There's a difference in style and sentiment between Trump's tweets from the Android and the iPhone. We know Trump used the Android until March 2017, but who was tweeting from the iPhone on Trump's behalf? I was fascinated by a <a href=\"http://www.newyorker.com/magazine/2016/07/25/donald-trumps-ghostwriter-tells-all\">New Yorker article</a> about Tony Schwartz, Trump’s ghostwriter for <em>The Art of the Deal</em>. Of particular interest was how Schwartz imitated Trump’s voice and philosophy:</p>\n",
    "<blockquote>\n",
    "  <p><em>In his journal, Schwartz describes the process of trying to make Trump’s voice palatable in the book. It was kind of “a trick,” he writes, to mimic Trump’s blunt, staccato, no-apologies delivery while making him seem almost boyishly appealing…. Looking back at the text now, Schwartz says, “I created a character far more winning than Trump is.”</em></p>\n",
    "</blockquote>\n",
    "<p>A lot has been written about Trump’s mental state. But I’d rather get inside the head of the anonymous staffer whose job is to imitate Trump’s unique cadence (“Very sad!”) or put a positive spin on it, to millions of his followers. Are they a true believer, or just a cog in a political machine, mixing whatever mainstream appeal they can into the <a href=\"https://twitter.com/realDonaldTrump\">@realDonaldTrump</a> concoction? Like Tony Schwartz, will they one day regret their involvement?</p>"
   ]
  },
  {
   "cell_type": "code",
   "execution_count": null,
   "metadata": {
    "dc": {
     "key": "81"
    },
    "tags": [
     "sample_code"
    ]
   },
   "outputs": [],
   "source": [
    "anonymous_iPhone_tweeter <- \"Cog\""
   ]
  }
 ],
 "metadata": {
  "kernelspec": {
   "display_name": "R",
   "language": "R",
   "name": "ir"
  },
  "language_info": {
   "codemirror_mode": "r",
   "file_extension": ".r",
   "mimetype": "text/x-r-source",
   "name": "R",
   "pygments_lexer": "r",
   "version": "3.6.1"
  }
 },
 "nbformat": 4,
 "nbformat_minor": 2
}
